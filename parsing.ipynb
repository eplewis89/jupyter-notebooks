{
 "cells": [
  {
   "cell_type": "code",
   "execution_count": null,
   "id": "8d39b156-7d14-479a-8242-ea3c444109d5",
   "metadata": {},
   "outputs": [],
   "source": [
    "pip install lxml"
   ]
  },
  {
   "cell_type": "markdown",
   "id": "22e67270-9153-4be3-a318-e1fbe834a01d",
   "metadata": {},
   "source": [
    "# Example 1 - parsing from a local file"
   ]
  },
  {
   "cell_type": "code",
   "execution_count": 33,
   "id": "b85ecfd5-08ec-4235-a9ec-193259efcaef",
   "metadata": {},
   "outputs": [
    {
     "name": "stdout",
     "output_type": "stream",
     "text": [
      "[('test 1', 'test1.com'), ('test 2', 'test2.com'), ('test 3', 'test3.com'), ('test 4', 'test4.com'), ('test 5', 'test4.com')]\n"
     ]
    }
   ],
   "source": [
    "from lxml.html import parse\n",
    "\n",
    "doc = parse(\"example.html\")\n",
    "\n",
    "links = []\n",
    "\n",
    "for div in doc.iter('a'):\n",
    "    # append a tuple of the content (whats between the tags) and the link (href)\n",
    "    links.append((div.text_content(), div.get('href')))\n",
    "\n",
    "print(links)"
   ]
  },
  {
   "cell_type": "markdown",
   "id": "8f6073f8-a105-42f6-9914-2f8e642227bc",
   "metadata": {},
   "source": [
    "# Example 2 - parsing from a website"
   ]
  },
  {
   "cell_type": "code",
   "execution_count": null,
   "id": "4460af9e-40f6-4fee-be0e-f67c747ffa49",
   "metadata": {},
   "outputs": [],
   "source": [
    "from urllib import request\n",
    "from io import StringIO\n",
    "\n",
    "from lxml.html import parse, fromstring\n",
    "\n",
    "# get the html data from the website\n",
    "fp = request.urlopen(\"http://www.python.org\")\n",
    "data = fp.read().decode(\"utf8\")\n",
    "fp.close()\n",
    "\n",
    "# parse into a usable format\n",
    "doc = parse(StringIO(data))\n",
    "\n",
    "# iterate through links and grab the actual link\n",
    "for div in doc.iter('a'):\n",
    "    print(div.get('href'))"
   ]
  },
  {
   "cell_type": "markdown",
   "id": "286d114d-92df-49be-b0d5-73387963d836",
   "metadata": {},
   "source": [
    "# Example 3 - testing for dead links"
   ]
  },
  {
   "cell_type": "code",
   "execution_count": 32,
   "id": "a56a0f89-7fb4-42df-8e8e-de9f3cd28bde",
   "metadata": {},
   "outputs": [
    {
     "name": "stdout",
     "output_type": "stream",
     "text": [
      "link is good: http://google.com\n",
      "dead link: http://cerberus.zip/asdf\n",
      "link is good: http://cerberus.zip\n"
     ]
    }
   ],
   "source": [
    "import requests\n",
    "\n",
    "urls = [\"google.com\", \"cerberus.zip/asdf\", \"cerberus.zip\"]\n",
    "\n",
    "for x in urls:\n",
    "    if not x.startswith(\"http\"):\n",
    "        x = \"http://\" + x\n",
    "\n",
    "    code = requests.get(x).status_code\n",
    "\n",
    "    if code != 200:\n",
    "        print(\"dead link:\", x)\n",
    "    else:\n",
    "        print(\"link is good:\", x)"
   ]
  },
  {
   "cell_type": "code",
   "execution_count": null,
   "id": "a494625b-a7ba-4cd1-ba21-bbc5492d9785",
   "metadata": {},
   "outputs": [],
   "source": []
  }
 ],
 "metadata": {
  "kernelspec": {
   "display_name": "Python 3 (ipykernel)",
   "language": "python",
   "name": "python3"
  },
  "language_info": {
   "codemirror_mode": {
    "name": "ipython",
    "version": 3
   },
   "file_extension": ".py",
   "mimetype": "text/x-python",
   "name": "python",
   "nbconvert_exporter": "python",
   "pygments_lexer": "ipython3",
   "version": "3.11.2"
  }
 },
 "nbformat": 4,
 "nbformat_minor": 5
}
